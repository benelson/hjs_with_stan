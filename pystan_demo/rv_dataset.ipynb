{
 "cells": [
  {
   "cell_type": "code",
   "execution_count": 1,
   "metadata": {
    "collapsed": false
   },
   "outputs": [],
   "source": [
    "import csv\n",
    "import generate\n",
    "import getData\n",
    "import pystan\n",
    "%matplotlib inline"
   ]
  },
  {
   "cell_type": "code",
   "execution_count": 2,
   "metadata": {
    "collapsed": false
   },
   "outputs": [],
   "source": [
    "filename = \"planets_RV.csv\"\n",
    "modelfile = \"powerlaw_1comp.stan\"\n",
    "nChains = 5\n",
    "nIterations = 100000\n",
    "nThin = 25\n",
    "nJobs = 1\n",
    "\n",
    "data = getData.NEA_to_dict(filename)\n",
    "Stan_data = getData.create_Stan_input(data, transit=0)\n",
    "Stan_ICs = generate.ICs_1comp([-1.,1.5,27.], Stan_data[\"x\"], nChains)"
   ]
  },
  {
   "cell_type": "code",
   "execution_count": 3,
   "metadata": {
    "collapsed": false
   },
   "outputs": [],
   "source": [
    "fit = pystan.stan(file=modelfile, data=Stan_data, iter=nIterations, chains=nChains, thin=nThin, init=Stan_ICs, n_jobs=nJobs)"
   ]
  },
  {
   "cell_type": "code",
   "execution_count": 4,
   "metadata": {
    "collapsed": true
   },
   "outputs": [],
   "source": [
    "postSamp = getData.stan_output_to_posterior_samples_1comp(fit.extract())"
   ]
  },
  {
   "cell_type": "code",
   "execution_count": 6,
   "metadata": {
    "collapsed": false
   },
   "outputs": [
    {
     "ename": "SyntaxError",
     "evalue": "invalid syntax (<ipython-input-6-5d8a8b72b917>, line 2)",
     "output_type": "error",
     "traceback": [
      "\u001b[0;36m  File \u001b[0;32m\"<ipython-input-6-5d8a8b72b917>\"\u001b[0;36m, line \u001b[0;32m2\u001b[0m\n\u001b[0;31m    corner.corner(postSamp, labels=[r'$\\gamma$','$x_l$','$x_u$'], label_kwargs={fontsize=16});\u001b[0m\n\u001b[0m                                                                                        ^\u001b[0m\n\u001b[0;31mSyntaxError\u001b[0m\u001b[0;31m:\u001b[0m invalid syntax\n"
     ]
    }
   ],
   "source": [
    "import corner\n",
    "corner.corner(postSamp, labels=[r'$\\gamma$','$x_l$','$x_u$'], label_kwargs={fontsize:16});"
   ]
  },
  {
   "cell_type": "code",
   "execution_count": null,
   "metadata": {
    "collapsed": true
   },
   "outputs": [],
   "source": []
  }
 ],
 "metadata": {
  "kernelspec": {
   "display_name": "Python 3",
   "language": "python",
   "name": "python3"
  },
  "language_info": {
   "codemirror_mode": {
    "name": "ipython",
    "version": 3
   },
   "file_extension": ".py",
   "mimetype": "text/x-python",
   "name": "python",
   "nbconvert_exporter": "python",
   "pygments_lexer": "ipython3",
   "version": "3.5.1"
  }
 },
 "nbformat": 4,
 "nbformat_minor": 0
}
