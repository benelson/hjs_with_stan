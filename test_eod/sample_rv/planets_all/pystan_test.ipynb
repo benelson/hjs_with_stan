{
 "cells": [
  {
   "cell_type": "code",
   "execution_count": 1,
   "metadata": {
    "collapsed": false
   },
   "outputs": [],
   "source": [
    "import csv\n",
    "import numpy as np\n",
    "import generate\n",
    "import getData\n",
    "import pystan\n",
    "from math import isnan"
   ]
  },
  {
   "cell_type": "code",
   "execution_count": 2,
   "metadata": {
    "collapsed": false
   },
   "outputs": [],
   "source": [
    "%matplotlib inline"
   ]
  },
  {
   "cell_type": "code",
   "execution_count": 3,
   "metadata": {
    "collapsed": true
   },
   "outputs": [],
   "source": [
    "filename = \"planets_all.in\"\n",
    "modelfile = \"powerlaw_1comp_sigmas.stan\"\n",
    "nChains = 10\n",
    "nIterations = 10000\n",
    "nThin = 10\n",
    "nJobs = -1\n",
    "RJtoAU = 0.000477894503\n",
    "MJtoMsun = 0.000954265748"
   ]
  },
  {
   "cell_type": "code",
   "execution_count": 5,
   "metadata": {
    "collapsed": false
   },
   "outputs": [
    {
     "name": "stdout",
     "output_type": "stream",
     "text": [
      "[1.9555144214521092, 1.9810567068646296, 2.2526555523792022, 2.34725604940739, 2.3638201441281237, 2.6354974559075592, 2.69500482590737, 2.7673638648162968, 2.7678719726554628, 2.9464235566084276, 2.9922789612347986, 3.0610176044672963, 3.1378289940624695, 3.1666228234041678, 3.1843093996749525, 3.3901732144443106, 3.4088490880705948, 3.5682279148904898, 3.6282271510179451, 3.7657249175115592, 3.9739931168726086, 4.3518233087862583, 4.6716632227822235, 5.0292701739954646, 5.315856205407659, 5.5066602123107335, 6.4265098639841503, 6.4339386431102366, 6.6999262322196609, 7.6498451408253239, 8.5070720882918689, 8.6351789170676163, 8.6435699706218845, 8.7657904807981595, 8.9604815794057604, 9.0799486957331634, 10.67417421512981, 11.238816691043745, 12.409439982160468, 15.496228633736211, 15.931482807502649, 16.433662218045296]\n"
     ]
    }
   ],
   "source": [
    "data = getData.exoplanetsORG_to_dict(filename)\n",
    "Stan_data = getData.create_Stan_input(data)\n",
    "Stan_ICs = generate.ICs_1comp([-1.,1.5,35.], Stan_data[\"x\"], nChains)\n",
    "\n",
    "#per = np.random.normal(np.array(Stan_data[\"per\"]), np.array(Stan_data[\"per_sigma\"]))\n",
    "#rad = np.random.normal(np.array(Stan_data[\"rad\"]), np.array(Stan_data[\"rad_sigma\"]))\n",
    "#Mpl = np.random.normal(np.array(Stan_data[\"Mpl\"]), np.array(Stan_data[\"Mpl_sigma\"]))\n",
    "#xs = 0.462 * (per/365.242)**(0.66667) * (Mpl * MJtoMsun)**(0.3333) / ( rad * RJtoAU )\n",
    "#print(sorted(xs))\n",
    "print(sorted(Stan_data['x']))"
   ]
  },
  {
   "cell_type": "code",
   "execution_count": null,
   "metadata": {
    "collapsed": false
   },
   "outputs": [],
   "source": [
    "fit = pystan.stan(file=modelfile, data=Stan_data, iter=nIterations, chains=nChains,\\\n",
    "                  thin=nThin, init=Stan_ICs, n_jobs=nJobs)"
   ]
  },
  {
   "cell_type": "code",
   "execution_count": null,
   "metadata": {
    "collapsed": false
   },
   "outputs": [],
   "source": [
    "fit.plot([\"gamma\",\"xl\",\"xu\"]);"
   ]
  },
  {
   "cell_type": "code",
   "execution_count": null,
   "metadata": {
    "collapsed": true
   },
   "outputs": [],
   "source": []
  }
 ],
 "metadata": {
  "kernelspec": {
   "display_name": "Python 3",
   "language": "python",
   "name": "python3"
  },
  "language_info": {
   "codemirror_mode": {
    "name": "ipython",
    "version": 3
   },
   "file_extension": ".py",
   "mimetype": "text/x-python",
   "name": "python",
   "nbconvert_exporter": "python",
   "pygments_lexer": "ipython3",
   "version": "3.5.1"
  }
 },
 "nbformat": 4,
 "nbformat_minor": 0
}
