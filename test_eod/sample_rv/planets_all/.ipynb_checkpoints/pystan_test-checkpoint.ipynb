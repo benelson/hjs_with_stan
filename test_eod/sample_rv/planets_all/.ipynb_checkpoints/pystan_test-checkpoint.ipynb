{
 "cells": [
  {
   "cell_type": "code",
   "execution_count": null,
   "metadata": {
    "collapsed": false
   },
   "outputs": [],
   "source": [
    "import csv\n",
    "import numpy as np\n",
    "import generate\n",
    "import getData\n",
    "import pystan\n",
    "from math import isnan"
   ]
  },
  {
   "cell_type": "code",
   "execution_count": null,
   "metadata": {
    "collapsed": false
   },
   "outputs": [],
   "source": [
    "%matplotlib inline"
   ]
  },
  {
   "cell_type": "code",
   "execution_count": null,
   "metadata": {
    "collapsed": true
   },
   "outputs": [],
   "source": [
    "filename = \"planets_all.in\"\n",
    "modelfile = \"powerlaw_1comp_sigmas.stan\"\n",
    "nChains = 10\n",
    "nIterations = 10000\n",
    "nThin = 10\n",
    "nJobs = -1\n",
    "RJtoAU = 0.000477894503\n",
    "MJtoMsun = 0.000954265748"
   ]
  },
  {
   "cell_type": "code",
   "execution_count": null,
   "metadata": {
    "collapsed": false
   },
   "outputs": [],
   "source": [
    "data = getData.exoplanetsORG_to_dict(filename)\n",
    "Stan_data = getData.create_Stan_input_sigmas(data)\n",
    "Stan_ICs = generate.ICs_1comp_sigmas([-1.,1.5,35.], Stan_data, nChains)\n",
    "\n",
    "per = np.random.normal(np.array(Stan_data[\"per\"]), np.array(Stan_data[\"per_sigma\"]))\n",
    "rad = np.random.normal(np.array(Stan_data[\"rad\"]), np.array(Stan_data[\"rad_sigma\"]))\n",
    "Mpl = np.random.normal(np.array(Stan_data[\"Mpl\"]), np.array(Stan_data[\"Mpl_sigma\"]))\n",
    "xs = 0.462 * (per/365.242)**(0.66667) * (Mpl * MJtoMsun)**(0.3333) / ( rad * RJtoAU )\n",
    "#print(sorted(xs))\n",
    "#print(Stan_ICs)"
   ]
  },
  {
   "cell_type": "code",
   "execution_count": null,
   "metadata": {
    "collapsed": false
   },
   "outputs": [],
   "source": [
    "fit = pystan.stan(file=modelfile, data=Stan_data, iter=nIterations, chains=nChains,\\\n",
    "                  thin=nThin, init=Stan_ICs, n_jobs=nJobs)"
   ]
  },
  {
   "cell_type": "code",
   "execution_count": null,
   "metadata": {
    "collapsed": false
   },
   "outputs": [],
   "source": [
    "fit.plot();"
   ]
  },
  {
   "cell_type": "code",
   "execution_count": null,
   "metadata": {
    "collapsed": true
   },
   "outputs": [],
   "source": []
  }
 ],
 "metadata": {
  "kernelspec": {
   "display_name": "Python 3",
   "language": "python",
   "name": "python3"
  },
  "language_info": {
   "codemirror_mode": {
    "name": "ipython",
    "version": 3
   },
   "file_extension": ".py",
   "mimetype": "text/x-python",
   "name": "python",
   "nbconvert_exporter": "python",
   "pygments_lexer": "ipython3",
   "version": "3.5.1"
  }
 },
 "nbformat": 4,
 "nbformat_minor": 0
}
