{
 "cells": [
  {
   "cell_type": "markdown",
   "metadata": {},
   "source": [
    "# Paper figures"
   ]
  },
  {
   "cell_type": "code",
   "execution_count": null,
   "metadata": {
    "collapsed": false
   },
   "outputs": [],
   "source": [
    "%matplotlib inline\n",
    "import numpy as np\n",
    "import pylab as plt\n",
    "from math import isnan\n",
    "from test_eod import generate\n",
    "from test_eod import getData"
   ]
  },
  {
   "cell_type": "code",
   "execution_count": null,
   "metadata": {
    "collapsed": false
   },
   "outputs": [],
   "source": [
    "def file_to_posterior_samples(filename):\n",
    "    with open(filename) as f:\n",
    "        lines = f.read().splitlines()\n",
    "    postSamp = np.array([ list(map(float,l.split(\" \"))) for l in lines ])\n",
    "    return postSamp\n",
    "\n",
    "def file_to_posterior_samples_1comp(filename):\n",
    "    with open(filename) as f:\n",
    "        lines = f.read().splitlines()\n",
    "    postSamp = np.array([ list(map(float,l.split(\" \"))) for l in lines ])\n",
    "    postSamp = np.transpose(np.transpose(postSamp)[0:2])\n",
    "    return postSamp\n",
    "\n",
    "def file_to_posterior_samples_2comp(filename):\n",
    "    with open(filename) as f:\n",
    "        lines = f.read().splitlines()\n",
    "    postSamp = np.array([ list(map(float,l.split(\" \"))) for l in lines ])\n",
    "    postSamp = np.transpose(np.array([np.transpose(postSamp)[i] for i in [0,1,2,3,5]]))\n",
    "    return postSamp\n",
    "\n",
    "def file_to_posterior_samples_2comp_overlap(filename):\n",
    "    with open(filename) as f:\n",
    "        lines = f.read().splitlines()\n",
    "    postSamp = np.array([ list(map(float,l.split(\" \"))) for l in lines ])\n",
    "    postSamp = np.transpose(np.array([np.transpose(postSamp)[i] for i in [0,1,2,3,4,5,6]]))\n",
    "    return postSamp"
   ]
  },
  {
   "cell_type": "code",
   "execution_count": null,
   "metadata": {
    "collapsed": false
   },
   "outputs": [],
   "source": [
    "data_RV = getData.exoplanetsORG_to_dict(\"test_eod/sample_rv/planets_all/planets_rvall.in\")\n",
    "data_HAT = getData.exoplanetsORG_to_dict(\"test_eod/sample_HAT/planets_HAT.in\")\n",
    "data_WASP = getData.exoplanetsORG_to_dict(\"test_eod/sample_WASP/planets_WASP.in\")\n",
    "data_Kepler = getData.Santerne_to_dict(\"test_eod/sample_Kepler/TableKeplerGiants.tex\")\n",
    "\n",
    "xlist_RV = getData.create_Stan_input_ordered(data_RV)['x']\n",
    "xlist_HAT = getData.create_Stan_input_ordered(data_HAT)['x']\n",
    "xlist_WASP = getData.create_Stan_input_ordered(data_WASP)['x']\n",
    "xlist_Kepler = getData.create_Stan_input_ordered(data_Kepler)['x']"
   ]
  },
  {
   "cell_type": "markdown",
   "metadata": {
    "collapsed": false
   },
   "source": [
    "# <center> Figures of data </center>"
   ]
  },
  {
   "cell_type": "code",
   "execution_count": null,
   "metadata": {
    "collapsed": false
   },
   "outputs": [],
   "source": [
    "from matplotlib.transforms import Bbox, TransformedBbox, \\\n",
    "    blended_transform_factory\n",
    "\n",
    "from mpl_toolkits.axes_grid1.inset_locator import BboxPatch, BboxConnector,\\\n",
    "    BboxConnectorPatch\n",
    "\n",
    "\n",
    "def connect_bbox(bbox1, bbox2,\n",
    "                 loc1a, loc2a, loc1b, loc2b,\n",
    "                 prop_lines, prop_patches=None):\n",
    "    if prop_patches is None:\n",
    "        prop_patches = prop_lines.copy()\n",
    "        prop_patches[\"alpha\"] = prop_patches.get(\"alpha\", 1)*0.2\n",
    "\n",
    "    c1 = BboxConnector(bbox1, bbox2, loc1=loc1a, loc2=loc2a, **prop_lines)\n",
    "    c1.set_clip_on(False)\n",
    "    c2 = BboxConnector(bbox1, bbox2, loc1=loc1b, loc2=loc2b, **prop_lines)\n",
    "    c2.set_clip_on(False)\n",
    "\n",
    "    bbox_patch1 = BboxPatch(bbox1, **prop_patches)\n",
    "    bbox_patch2 = BboxPatch(bbox2, **prop_patches)\n",
    "\n",
    "    p = BboxConnectorPatch(bbox1, bbox2,\n",
    "                           # loc1a=3, loc2a=2, loc1b=4, loc2b=1,\n",
    "                           loc1a=loc1a, loc2a=loc2a, loc1b=loc1b, loc2b=loc2b,\n",
    "                           **prop_patches)\n",
    "    p.set_clip_on(False)\n",
    "\n",
    "    return c1, c2, bbox_patch1, bbox_patch2, p\n",
    "\n",
    "\n",
    "def zoom_effect01(ax1, ax2, xmin, xmax, **kwargs):\n",
    "    \"\"\"\n",
    "    ax1 : the main axes\n",
    "    ax1 : the zoomed axes\n",
    "    (xmin,xmax) : the limits of the colored area in both plot axes.\n",
    "\n",
    "    connect ax1 & ax2. The x-range of (xmin, xmax) in both axes will\n",
    "    be marked.  The keywords parameters will be used ti create\n",
    "    patches.\n",
    "\n",
    "    \"\"\"\n",
    "\n",
    "    trans1 = blended_transform_factory(ax1.transData, ax1.transAxes)\n",
    "    trans2 = blended_transform_factory(ax2.transData, ax2.transAxes)\n",
    "\n",
    "    bbox = Bbox.from_extents(xmin, 1, xmax, 0)\n",
    "\n",
    "    mybbox1 = TransformedBbox(bbox, trans1)\n",
    "    mybbox2 = TransformedBbox(bbox, trans2)\n",
    "\n",
    "    prop_patches = kwargs.copy()\n",
    "    prop_patches[\"ec\"] = \"none\"\n",
    "    prop_patches[\"color\"] = \"gainsboro\"\n",
    "    prop_patches[\"alpha\"] = 1.0\n",
    "\n",
    "    c1, c2, bbox_patch1, bbox_patch2, p = \\\n",
    "        connect_bbox(mybbox1, mybbox2,\n",
    "                     loc1a=3, loc2a=2, loc1b=4, loc2b=1,\n",
    "                     prop_lines=kwargs, prop_patches=prop_patches)\n",
    "\n",
    "    ax1.add_patch(bbox_patch1)\n",
    "    ax2.add_patch(bbox_patch2)\n",
    "    ax2.add_patch(c1)\n",
    "    ax2.add_patch(c2)\n",
    "    ax2.add_patch(p)\n",
    "\n",
    "    return c1, c2, bbox_patch1, bbox_patch2, p"
   ]
  },
  {
   "cell_type": "code",
   "execution_count": null,
   "metadata": {
    "collapsed": false
   },
   "outputs": [],
   "source": [
    "plt.figure(1, figsize=(5, 5))\n",
    "ax1 = plt.subplot(212)\n",
    "ax2 = plt.subplot(211)\n",
    "ax1.set_xlim(0, 4)\n",
    "ax2.set_xlim(0, 25)\n",
    "zoom_effect01(ax1, ax2, 1, 3)\n",
    "\n",
    "values, base_rv = np.histogram(xlist_RV, bins=500)\n",
    "cum_rv = np.cumsum(values)/len(xlist_RV)\n",
    "\n",
    "values, base_HAT = np.histogram(xlist_HAT, bins=500)\n",
    "cum_HAT = np.cumsum(values)/len(xlist_HAT)\n",
    "\n",
    "values, base_WASP = np.histogram(xlist_WASP, bins=500)\n",
    "cum_WASP = np.cumsum(values)/len(xlist_WASP)\n",
    "\n",
    "values, base_Kepler = np.histogram(xlist_Kepler, bins=500)\n",
    "cum_Kepler = np.cumsum(values)/len(xlist_Kepler)\n",
    "\n",
    "ax1.plot(base_rv[:-1], cum_rv,'.')\n",
    "ax1.plot(base_HAT[:-1], cum_HAT,'-')\n",
    "ax1.plot(base_WASP[:-1], cum_WASP,'-.')\n",
    "ax1.plot(base_Kepler[:-1], cum_Kepler,'--')\n",
    "\n",
    "ax2.plot(base_rv[:-1], cum_rv,'.')\n",
    "ax2.plot(base_HAT[:-1], cum_HAT,'-')\n",
    "ax2.plot(base_WASP[:-1], cum_WASP,'-.')\n",
    "ax2.plot(base_Kepler[:-1], cum_Kepler,'--')\n",
    "ax2.legend([\"RV\",\"HAT\",\"WASP\",\"Kepler\"], loc=4)\n",
    "\n",
    "ax1.set_xlabel(r\"$\\rm x_{edge}\\equiv a/a_{Roche,edge}$\", fontsize=16)\n",
    "ax2.set_ylabel(\"Probability\", fontsize=16)\n",
    "ax1.set_ylabel(\"Probability\", fontsize=16)\n",
    "#plt.savefig(\"figures/xdist_cum.eps\",dpi=300)\n",
    "plt.show()"
   ]
  },
  {
   "cell_type": "code",
   "execution_count": null,
   "metadata": {
    "collapsed": false
   },
   "outputs": [],
   "source": [
    "from operator import itemgetter\n",
    "\n",
    "def read_sybil_data(filename):\n",
    "    with open(filename) as f:\n",
    "        data = f.readlines()[9:]\n",
    "    data = [ list(map(float,item.strip().split(\",\"))) for item in data ]\n",
    "    data = np.transpose(sorted(data, key=itemgetter(1)))[1:3]\n",
    "    return data\n",
    "\n",
    "NFA_data_rv = read_sybil_data(\"sybil_results/planets_rv/planets_rv_coef_data_0_1.64.csv\")\n",
    "NFA_data_HAT = read_sybil_data(\"sybil_results/planets_HAT/planets_HAT_coef_data_0_0.46.csv\")\n",
    "NFA_data_WASP = read_sybil_data(\"sybil_results/planets_WASP/planets_WASP_coef_data_0_0.43.csv\")\n",
    "NFA_data_Kepler = read_sybil_data(\"sybil_results/planets_Kepler/planets_Kepler_coef_data_0_0.66.csv\")\n",
    "\n",
    "plt.figure(1, figsize=(5, 5))\n",
    "ax1 = plt.subplot(212)\n",
    "ax2 = plt.subplot(211)\n",
    "ax1.set_xlim(0, 6)\n",
    "ax2.set_xlim(0, 25)\n",
    "zoom_effect01(ax1, ax2, 1, 5)\n",
    "\n",
    "ax1.plot(NFA_data_rv[0], NFA_data_rv[1], '.')\n",
    "ax1.plot(NFA_data_HAT[0], NFA_data_HAT[1], '-')\n",
    "ax1.plot(NFA_data_WASP[0], NFA_data_WASP[1], '-.')\n",
    "ax1.plot(NFA_data_Kepler[0], NFA_data_Kepler[1], '--')\n",
    "\n",
    "ax2.plot(NFA_data_rv[0], NFA_data_rv[1], '.')\n",
    "ax2.plot(NFA_data_HAT[0], NFA_data_HAT[1], '-')\n",
    "ax2.plot(NFA_data_WASP[0], NFA_data_WASP[1], '-.')\n",
    "ax2.plot(NFA_data_Kepler[0], NFA_data_Kepler[1], '--')\n",
    "ax2.legend([\"RV\",\"HAT\",\"WASP\",\"Kepler\"])\n",
    "\n",
    "ax1.set_xlabel(r\"$\\rm x_{edge}\\equiv a/a_{Roche,edge}$\", fontsize=16)\n",
    "ax2.set_ylabel(\"Connections\", fontsize=16)\n",
    "ax1.set_ylabel(\"Connections\", fontsize=16)\n",
    "\n",
    "#plt.savefig(\"figures/xdist_nbfreq.eps\",dpi=300)\n",
    "plt.show()"
   ]
  },
  {
   "cell_type": "code",
   "execution_count": null,
   "metadata": {
    "collapsed": false
   },
   "outputs": [],
   "source": [
    "f, (ax1, ax2, ax3) = plt.subplots(3, sharex=True)\n",
    "\n",
    "key=\"tem\"\n",
    "ax1.plot(xlist_RV, data_RV[key], 's')\n",
    "ax1.plot(xlist_HAT, data_HAT[key], '.')\n",
    "ax1.plot(xlist_WASP, data_WASP[key], 'x')\n",
    "ax1.plot(xlist_Kepler, data_Kepler['teff'], 'd')\n",
    "ax1.set_ylabel(r\"$\\rm T_{eff} [K]$\", fontsize=16)\n",
    "ax1.set_ylim(3550., 6950.)\n",
    "ax1.legend([\"RV\",\"HAT\",\"WASP\",\"Kepler\"], numpoints=1, loc=4, fontsize=8)\n",
    "\n",
    "key=\"feh\"\n",
    "ax2.plot(xlist_RV, data_RV[key], 's')\n",
    "ax2.plot(xlist_HAT, data_HAT[key], '.')\n",
    "ax2.plot(xlist_WASP, data_WASP[key], 'x')\n",
    "ax2.plot(xlist_Kepler, data_Kepler[key], 'd')\n",
    "ax2.set_ylabel(\"Fe/H\", fontsize=16)\n",
    "\n",
    "key=\"vsi\"\n",
    "ax3.plot(xlist_RV, data_RV[key], 's')\n",
    "ax3.plot(xlist_HAT, data_HAT[key], '.')\n",
    "ax3.plot(xlist_WASP, data_WASP[key], 'x')\n",
    "ax3.set_ylabel(r\"$\\rm v\\sin{i} [km/s]$\", fontsize=16)\n",
    "\n",
    "plt.xlabel(r\"$\\rm x_{edge}$\", fontsize=16)\n",
    "\n",
    "f.subplots_adjust(hspace=0)\n",
    "\n",
    "plt.xlim(0.9,4.9)\n",
    "plt.tight_layout()\n",
    "#plt.savefig(\"figures/xdist_stars_EOD.png\", dpi=100)\n",
    "plt.show()"
   ]
  },
  {
   "cell_type": "code",
   "execution_count": null,
   "metadata": {
    "collapsed": false
   },
   "outputs": [],
   "source": []
  },
  {
   "cell_type": "code",
   "execution_count": null,
   "metadata": {
    "collapsed": false
   },
   "outputs": [],
   "source": []
  },
  {
   "cell_type": "code",
   "execution_count": null,
   "metadata": {
    "collapsed": false
   },
   "outputs": [],
   "source": [
    "x=0\n",
    "#inds = [i for i,x in enumerate(xlist_WASP) if x<2.]\n",
    "#print([data_WASP['feh'][x] for x in inds])\n",
    "#print(data_WASP['feh'][x])\n",
    "for x in range(len(xlist_WASP)):\n",
    "    per = data_WASP['per'][x]\n",
    "    Mpl = data_WASP['Mpl'][x] \n",
    "    rad = data_WASP['rad'][x]\n",
    "    print((per/365.242)**0.66667 * ( 0.462 * (Mpl * 0.000954265748)**0.3333 ) / (rad * 0.000477894503), xlist_WASP[x])"
   ]
  },
  {
   "cell_type": "markdown",
   "metadata": {},
   "source": [
    "# <center> Functions for following contour plots </center>"
   ]
  },
  {
   "cell_type": "code",
   "execution_count": null,
   "metadata": {
    "collapsed": true
   },
   "outputs": [],
   "source": [
    "import scipy.optimize as so\n",
    "\n",
    "def find_confidence_interval(x, pdf, confidence_level):\n",
    "    return pdf[pdf > x].sum() - confidence_level\n",
    "\n",
    "\n",
    "def compute_contour_parameters(xlist, ylist, xbsize, ybsize):\n",
    "\n",
    "    xbins = xbsize\n",
    "    ybins = ybsize\n",
    "\n",
    "    H, xedges, yedges = np.histogram2d(xlist, ylist, bins=(xbins,ybins), normed=True)\n",
    "    x_bin_sizes = (xedges[1:] - xedges[:-1]).reshape((1,xbins))\n",
    "    y_bin_sizes = (yedges[1:] - yedges[:-1]).reshape((ybins,1))\n",
    " \n",
    "    pdf = (H*(x_bin_sizes*y_bin_sizes))\n",
    "\n",
    "    one_sigma = so.brentq(find_confidence_interval, 0., 1., args=(pdf, 0.68))\n",
    "    two_sigma = so.brentq(find_confidence_interval, 0., 1., args=(pdf, 0.95))\n",
    "    lvls = [two_sigma, one_sigma]\n",
    "\n",
    "    X, Y = 0.5*(xedges[1:]+xedges[:-1]), 0.5*(yedges[1:]+yedges[:-1])\n",
    "    Z = pdf.T\n",
    "    return X, Y, Z, lvls"
   ]
  },
  {
   "cell_type": "code",
   "execution_count": null,
   "metadata": {
    "collapsed": false
   },
   "outputs": [],
   "source": [
    "def plot_contour_solid(xlist, ylist, xbins, ybins, ax=plt, colors=['grey','black'], hatches=[None]):\n",
    "    X1, Y1, Z1, levels1 = compute_contour_parameters(xlist, ylist, xbins, ybins)\n",
    "    contour = ax.contourf(X1, Y1, Z1, levels=levels1+[1.], colors=colors, origin=\"lower\", hatches=hatches)\n",
    "\n",
    "    fmt = {}\n",
    "    strs = [\"95%\",\"68%\"]\n",
    "    for l,s in zip( contour.levels, strs ):\n",
    "        fmt[l] = s\n",
    "        \n",
    "    return contour\n",
    "\n",
    "\n",
    "def plot_contour_lines(xlist, ylist, xbins, ybins, ax=plt, colors=['red','red'], linestyles=['solid','dashed']):\n",
    "    X1, Y1, Z1, levels1 = compute_contour_parameters(xlist, ylist, xbins, ybins)\n",
    "    contour = ax.contour(X1, Y1, Z1, levels=levels1, colors=colors, linewidths=[2.5, 2.5], \\\n",
    "                        linestyles=linestyles, origin=\"lower\");\n",
    "\n",
    "    fmt = {}\n",
    "    strs = [\"95%\",\"68%\"]\n",
    "    for l,s in zip( contour.levels, strs ):\n",
    "        fmt[l] = s\n",
    "        \n",
    "    return contour"
   ]
  },
  {
   "cell_type": "markdown",
   "metadata": {},
   "source": [
    "# <center> RV/Kepler/RV+Kepler planets </center>"
   ]
  },
  {
   "cell_type": "code",
   "execution_count": null,
   "metadata": {
    "collapsed": false,
    "scrolled": true
   },
   "outputs": [],
   "source": [
    "postSamp_RV = file_to_posterior_samples_1comp(\"test_eod/sample_rv/planets_all/postSamp_rvall_1comp.txt\").T\n",
    "postSamp_RV_sigmas = file_to_posterior_samples_1comp(\"test_eod/sample_rv/planets_all/postSamp_rvall_1comp_sigmas.txt\").T\n",
    "\n",
    "postSamp_Kep = file_to_posterior_samples_1comp(\"test_eod/sample_Kepler/postSamp_Kepler_1comp.txt\").T\n",
    "postSamp_Kep_sigmas = file_to_posterior_samples_1comp(\"test_eod/sample_Kepler/postSamp_Kepler_1comp_sigmas.txt\").T\n",
    "\n",
    "postSamp_rvKep = file_to_posterior_samples_1comp(\"test_eod/sample_rv+Kepler/postSamp_rv+Kepler_1comp.txt\").T\n",
    "postSamp_rvKep_sigmas = file_to_posterior_samples_1comp(\"test_eod/sample_rv+Kepler/postSamp_rv+Kepler_1comp_sigmas.txt\").T"
   ]
  },
  {
   "cell_type": "code",
   "execution_count": null,
   "metadata": {
    "collapsed": false
   },
   "outputs": [],
   "source": [
    "f, (ax1, ax2, ax3) = plt.subplots(3, sharex=True, sharey=True)\n",
    "\n",
    "plot_contour_solid(postSamp_RV[1], postSamp_RV[0], 20, 20, ax=ax1)\n",
    "plot_contour_lines(postSamp_RV_sigmas[1], postSamp_RV_sigmas[0], 20, 20, ax=ax1)\n",
    "plot_contour_solid(postSamp_Kep[1], postSamp_Kep[0], 20, 20, ax=ax2)\n",
    "plot_contour_lines(postSamp_Kep_sigmas[1], postSamp_Kep_sigmas[0], 20, 20, ax=ax2)\n",
    "plot_contour_solid(postSamp_rvKep[1], postSamp_rvKep[0], 20, 20, ax=ax3)\n",
    "plot_contour_lines(postSamp_rvKep_sigmas[1], postSamp_rvKep_sigmas[0], 20, 20, ax=ax3)\n",
    "\n",
    "ax1.text(1.7, -1.5, \"RV Planets\", fontsize=14)\n",
    "ax2.text(2.3, -1.5, \"Kepler Planets\", fontsize=14)\n",
    "ax3.text(2.3, -1.5, \"RV + Kepler Planets\", fontsize=14)\n",
    "\n",
    "f.subplots_adjust(hspace=0)\n",
    "\n",
    "plt.xlim(1.6, 2.9)\n",
    "plt.ylim(-2.4, 0.9)\n",
    "plt.xlabel(r\"$x_l$\", fontsize=20)\n",
    "ax2.set_ylabel(r\"$\\rm \\gamma$\", fontsize=20)\n",
    "plt.tight_layout()\n",
    "#plt.savefig(\"figures/results_RV_Kepler.eps\", dpi=300)\n",
    "plt.show()"
   ]
  },
  {
   "cell_type": "code",
   "execution_count": null,
   "metadata": {
    "collapsed": true
   },
   "outputs": [],
   "source": [
    "import pymc"
   ]
  },
  {
   "cell_type": "code",
   "execution_count": null,
   "metadata": {
    "collapsed": false
   },
   "outputs": [],
   "source": []
  },
  {
   "cell_type": "code",
   "execution_count": null,
   "metadata": {
    "collapsed": false
   },
   "outputs": [],
   "source": [
    "#compute Gelman-Rubin stats for each parameter\n",
    "array = np.split(postSamp_rvKep_sigmas[0],np.linspace(1000,9000,9))\n",
    "pymc.gelman_rubin(array)"
   ]
  },
  {
   "cell_type": "code",
   "execution_count": null,
   "metadata": {
    "collapsed": true
   },
   "outputs": [],
   "source": []
  },
  {
   "cell_type": "code",
   "execution_count": null,
   "metadata": {
    "collapsed": false
   },
   "outputs": [],
   "source": []
  },
  {
   "cell_type": "code",
   "execution_count": null,
   "metadata": {
    "collapsed": false
   },
   "outputs": [],
   "source": []
  },
  {
   "cell_type": "markdown",
   "metadata": {},
   "source": []
  },
  {
   "cell_type": "markdown",
   "metadata": {},
   "source": [
    "# <center>HAT/WASP/HAT+WASP planets</center>"
   ]
  },
  {
   "cell_type": "code",
   "execution_count": null,
   "metadata": {
    "collapsed": false
   },
   "outputs": [],
   "source": [
    "postSamp_HAT = file_to_posterior_samples_2comp_overlap(\"test_eod/sample_HAT/postSamp_HAT_2comp_2xl_overlap.txt\").T\n",
    "postSamp_HAT_sigmas = file_to_posterior_samples_2comp_overlap(\"test_eod/sample_HAT/postSamp_HAT_2comp_2xl_overlap_sigmas.txt\").T\n",
    "\n",
    "postSamp_WASP = file_to_posterior_samples_2comp_overlap(\"test_eod/sample_WASP/postSamp_WASP_2comp_2xl_overlap.txt\").T\n",
    "postSamp_WASP_sigmas = file_to_posterior_samples_2comp_overlap(\"test_eod/sample_WASP/postSamp_WASP_2comp_2xl_overlap_sigmas.txt\").T\n",
    "\n",
    "postSamp_HATWASP = file_to_posterior_samples_2comp_overlap(\"test_eod/sample_HAT+WASP/postSamp_HAT+WASP_2comp_2xl_overlap.txt\").T\n",
    "postSamp_HATWASP_sigmas = file_to_posterior_samples_2comp_overlap(\"test_eod/sample_HAT+WASP/postSamp_HAT+WASP_2comp_2xl_overlap_sigmas.txt\").T"
   ]
  },
  {
   "cell_type": "code",
   "execution_count": null,
   "metadata": {
    "collapsed": false
   },
   "outputs": [],
   "source": [
    "f, (ax2, ax3) = plt.subplots(2, sharex=True, sharey=True)\n",
    "\n",
    "plot_contour_solid(postSamp_WASP[2], postSamp_WASP[0], 20, 20, colors=['lightblue','cornflowerblue'], \\\n",
    "                   hatches=['|','||'], ax=ax2)\n",
    "plot_contour_lines(postSamp_WASP_sigmas[2], postSamp_WASP_sigmas[0], 20, 20, ax=ax2, colors=['blue','blue'])\n",
    "\n",
    "plot_contour_solid(postSamp_WASP[3], postSamp_WASP[1], 20, 20, colors=['lightsage','sage'],\\\n",
    "                   hatches=['-','--'], ax=ax2)\n",
    "plot_contour_lines(postSamp_WASP_sigmas[3], postSamp_WASP_sigmas[1], 20, 20, colors=['green','green'], ax=ax2)\n",
    "\n",
    "\n",
    "plot_contour_solid(postSamp_HATWASP[2], postSamp_HATWASP[0], 20, 20, colors=['lightblue','cornflowerblue'], \\\n",
    "                   hatches=['|','||'],ax=ax3)\n",
    "plot_contour_lines(postSamp_HATWASP_sigmas[2], postSamp_HATWASP_sigmas[0], 20, 20, ax=ax3, colors=['blue','blue'])\n",
    "\n",
    "plot_contour_solid(postSamp_HATWASP[3], postSamp_HATWASP[1], 20, 20, colors=['lightsage','sage'],\\\n",
    "                   hatches=['-','--'], ax=ax3)\n",
    "plot_contour_lines(postSamp_HATWASP_sigmas[3], postSamp_HATWASP_sigmas[1], 20, 20, colors=['green','green'], ax=ax3)\n",
    "\n",
    "\n",
    "ax2.text(-6.7, 0.8, \"WASP Planets\", fontsize=14)\n",
    "ax3.text(-6.7, 0.8, \"HAT + WASP Planets\", fontsize=14)\n",
    "\n",
    "ax2.set_ylim(0.,1.)\n",
    "\n",
    "plt.subplots_adjust(hspace=0.1)\n",
    "\n",
    "plt.xlim(-7.,2.)\n",
    "plt.xlabel(r\"$\\gamma$\", fontsize=20)\n",
    "ax3.annotate(r'$f$', (0., 1.05), xytext=(-30, 0),\n",
    "                    textcoords='offset points', xycoords='axes fraction',\n",
    "                    ha='right', va='center', size=20, rotation=90)\n",
    "#plt.savefig(\"figures/results_HAT_WASP_comps.eps\", dpi=300)\n",
    "plt.show()"
   ]
  },
  {
   "cell_type": "code",
   "execution_count": null,
   "metadata": {
    "collapsed": false
   },
   "outputs": [],
   "source": [
    "f, (ax2, ax3) = plt.subplots(2, sharex=True, sharey=True)\n",
    "\n",
    "plot_contour_solid(postSamp_WASP[4], postSamp_WASP[5], 30, 30, ax=ax2)\n",
    "plot_contour_lines(postSamp_WASP_sigmas[4], postSamp_WASP_sigmas[5], 20, 20, ax=ax2)\n",
    "\n",
    "plot_contour_solid(postSamp_HATWASP[4], postSamp_HATWASP[5], 20, 20, ax=ax3)\n",
    "plot_contour_lines(postSamp_HATWASP_sigmas[4], postSamp_HATWASP_sigmas[5], 20, 20, ax=ax3)\n",
    "\n",
    "ax2.text(0.92, 1.9, \"WASP Planets\", fontsize=14)\n",
    "ax3.text(0.92, 1.9, \"HAT + WASP Planets\", fontsize=14)\n",
    "\n",
    "f.subplots_adjust(hspace=0.1)\n",
    "\n",
    "plt.xlim(0.89, 1.31)\n",
    "plt.xlabel(r\"$x_{l,1}$\", fontsize=20)\n",
    "ax3.annotate(r'$x_{l,2}$', (0., 1.05), xytext=(-25, 0),\n",
    "                    textcoords='offset points', xycoords='axes fraction',\n",
    "                    ha='right', va='center', size=20, rotation=90)\n",
    "#plt.savefig(\"figures/results_HAT_WASP_xls.eps\", dpi=300)\n",
    "plt.show()"
   ]
  },
  {
   "cell_type": "code",
   "execution_count": null,
   "metadata": {
    "collapsed": false
   },
   "outputs": [],
   "source": [
    "a=5\n",
    "\n",
    "array = np.split(postSamp_HATWASP_sigmas[a],list(np.linspace(1000,9000,9)))\n",
    "print(pymc.gelman_rubin(array))"
   ]
  },
  {
   "cell_type": "code",
   "execution_count": null,
   "metadata": {
    "collapsed": false
   },
   "outputs": [],
   "source": [
    "#plt.scatter(np.linspace(0.,10000.,10000), postSamp_HAT_sigmas[a], edgecolors='None', s=1, color='b')\n",
    "#plt.scatter(np.linspace(0.,10000.,10000), postSamp_WASP_sigmas[a], edgecolors='None', s=1, color='r')\n",
    "plt.scatter(np.linspace(0.,10000.,10000), postSamp_HATWASP[a], edgecolors='None', s=1, color='g')\n",
    "plt.xlim(0.,10000.)\n",
    "plt.show()"
   ]
  },
  {
   "cell_type": "code",
   "execution_count": null,
   "metadata": {
    "collapsed": false
   },
   "outputs": [],
   "source": []
  },
  {
   "cell_type": "markdown",
   "metadata": {},
   "source": []
  },
  {
   "cell_type": "markdown",
   "metadata": {},
   "source": [
    "# <center> Synthetic Data </center>"
   ]
  },
  {
   "cell_type": "code",
   "execution_count": null,
   "metadata": {
    "collapsed": false
   },
   "outputs": [],
   "source": [
    "postSamp_synth_100 = file_to_posterior_samples_2comp_overlap(\"test_eod/sample_synthetic/postSamp_synthetic_2comp_2xl_overlap_n=100.txt\").T\n",
    "postSamp_synth_500 = file_to_posterior_samples_2comp_overlap(\"test_eod/sample_synthetic/postSamp_synthetic_2comp_2xl_overlap_n=500.txt\").T\n",
    "postSamp_synth_1000 = file_to_posterior_samples_2comp_overlap(\"test_eod/sample_synthetic/postSamp_synthetic_2comp_2xl_overlap_n=1000.txt\").T"
   ]
  },
  {
   "cell_type": "code",
   "execution_count": null,
   "metadata": {
    "collapsed": false
   },
   "outputs": [],
   "source": [
    "a=5\n",
    "plt.scatter(postSamp_synth_100[2][0::a], postSamp_synth_100[0][0::a], color='lightgray', s=2),\n",
    "plt.scatter(postSamp_synth_500[2][0::a], postSamp_synth_500[0][0::a], color='gray', s=2)\n",
    "plt.scatter(postSamp_synth_1000[2][0::a], postSamp_synth_1000[0][0::a], color=\"black\", s=2)\n",
    "\n",
    "plt.legend([\"n=100\",\"n=500\",\"n=1000\"], loc=2)\n",
    "\n",
    "plt.scatter(postSamp_synth_100[3][0::a], postSamp_synth_100[1][0::a], color='lightgray', s=2)\n",
    "plt.scatter(postSamp_synth_500[3][0::a], postSamp_synth_500[1][0::a], color='gray', s=2)\n",
    "plt.scatter(postSamp_synth_1000[3][0::a], postSamp_synth_1000[1][0::a], color=\"black\", s=2)\n",
    "\n",
    "plt.text(0., 0.9, \"Second component\", fontsize=12)\n",
    "plt.text(-3, 0.2, \"First component\", fontsize=12)\n",
    "\n",
    "\n",
    "plt.scatter([-1],[0.75], marker='d', s=100, color='red')\n",
    "plt.scatter([1],[0.25], marker='d', s=100, color='red')\n",
    "\n",
    "plt.xlim(-5., 3.)\n",
    "plt.ylim(0., 1.)\n",
    "plt.xlabel(r\"$\\gamma$\", fontsize=20)\n",
    "plt.ylabel(r\"$f$\", fontsize=20)\n",
    "plt.show()\n",
    "#plt.savefig(\"figures/results_synth_comps.eps\",dpi=300)"
   ]
  },
  {
   "cell_type": "code",
   "execution_count": null,
   "metadata": {
    "collapsed": false
   },
   "outputs": [],
   "source": [
    "plt.scatter(postSamp_synth_100[4], postSamp_synth_100[5], color='lightgray', s=2),\n",
    "plt.scatter(postSamp_synth_500[4], postSamp_synth_500[5], color='gray', s=2)\n",
    "plt.scatter(postSamp_synth_1000[4], postSamp_synth_1000[5], color=\"black\", s=2)\n",
    "\n",
    "plt.legend([\"n=100\",\"n=500\",\"n=1000\"], loc=2)\n",
    "\n",
    "plt.scatter([1.],[2.], marker='d', s=100, color='red')\n",
    "\n",
    "plt.xlim(0.,1.4)\n",
    "plt.xlabel(r\"$x_{l,1}$\", fontsize=20)\n",
    "plt.ylabel(r'$x_{l,2}$', fontsize=20)\n",
    "\n",
    "#plt.savefig(\"figures/results_synth_xls.eps\",dpi=300)\n",
    "plt.show()"
   ]
  },
  {
   "cell_type": "code",
   "execution_count": null,
   "metadata": {
    "collapsed": true
   },
   "outputs": [],
   "source": [
    "aa=np.percentile(postSamp_HATWASP_sigmas[3],15.9)\n",
    "bb=np.percentile(postSamp_HATWASP_sigmas[3],50.0)\n",
    "cc=np.percentile(postSamp_HATWASP_sigmas[3],84.1)"
   ]
  },
  {
   "cell_type": "code",
   "execution_count": null,
   "metadata": {
    "collapsed": false
   },
   "outputs": [],
   "source": [
    "print(bb, cc-bb, bb-aa)"
   ]
  },
  {
   "cell_type": "code",
   "execution_count": null,
   "metadata": {
    "collapsed": false
   },
   "outputs": [],
   "source": []
  },
  {
   "cell_type": "code",
   "execution_count": null,
   "metadata": {
    "collapsed": true
   },
   "outputs": [],
   "source": []
  }
 ],
 "metadata": {
  "kernelspec": {
   "display_name": "Python 3",
   "language": "python",
   "name": "python3"
  },
  "language_info": {
   "codemirror_mode": {
    "name": "ipython",
    "version": 3
   },
   "file_extension": ".py",
   "mimetype": "text/x-python",
   "name": "python",
   "nbconvert_exporter": "python",
   "pygments_lexer": "ipython3",
   "version": "3.5.1"
  }
 },
 "nbformat": 4,
 "nbformat_minor": 0
}
